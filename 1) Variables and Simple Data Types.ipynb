{
 "cells": [
  {
   "cell_type": "markdown",
   "metadata": {},
   "source": [
    "Student: **Syed Qasim Ali Shah**<br/>\n",
    "Github: **[sqasimali](https://github.com/sqasimali)**<br/>\n",
    "LinkedIn: **[syedqasimalishah](https://www.linkedin.com/in/syedqasimalishah/)**<br/>\n",
    "<br/>\n",
    "**Note:** *I'm learning python by using the book \"Python Crash Course by Eric Matthes\" and also from some online resources.*<br/><br/>\n",
    "**Online Resources:**<br/>\n",
    "* [w3schools.com](https://www.w3schools.com/python/)"
   ]
  },
  {
   "cell_type": "markdown",
   "metadata": {},
   "source": [
    "### Variables\n",
    "Variables are the containers for storing data values."
   ]
  },
  {
   "cell_type": "code",
   "execution_count": 1,
   "metadata": {},
   "outputs": [
    {
     "name": "stdout",
     "output_type": "stream",
     "text": [
      "Hello Python World!\n"
     ]
    }
   ],
   "source": [
    "message = \"Hello Python World!\"\n",
    "print(message)"
   ]
  },
  {
   "cell_type": "markdown",
   "metadata": {},
   "source": [
    "### Naming and Using Variables\n",
    "* *Variable names* can contain only letters, numbers, and underscores.\n",
    "* *Variable names* can start with a letter or an underscore, but not with a number.\n",
    "* Spaces are not allowed in *vaiable names*.\n",
    "* Underscores can be used to separate words in *variable names*.\n",
    "* Avoid using Python keywords and function names as *varaiable names*.\n",
    "* *Variable names* should be short but descriptive.\n",
    "* *Variable names* are case sensitive (name, Name and NAME will be treated as 3 different variables)."
   ]
  },
  {
   "cell_type": "markdown",
   "metadata": {},
   "source": [
    "### Strings\n",
    "*String* is a data type which is simply a series of characters. Anything inside single and double quotes is considered a *string* in Python."
   ]
  },
  {
   "cell_type": "code",
   "execution_count": 2,
   "metadata": {},
   "outputs": [
    {
     "name": "stdout",
     "output_type": "stream",
     "text": [
      "This is a string.\n"
     ]
    }
   ],
   "source": [
    "my_string = \"This is a string.\"\n",
    "print(my_string)"
   ]
  },
  {
   "cell_type": "markdown",
   "metadata": {},
   "source": [
    "#### Changing Case in a String"
   ]
  },
  {
   "cell_type": "code",
   "execution_count": 3,
   "metadata": {},
   "outputs": [
    {
     "name": "stdout",
     "output_type": "stream",
     "text": [
      "Qasim Ali\n"
     ]
    }
   ],
   "source": [
    "name = \"qasim ali\"\n",
    "print(name.title())"
   ]
  },
  {
   "cell_type": "code",
   "execution_count": 4,
   "metadata": {},
   "outputs": [
    {
     "name": "stdout",
     "output_type": "stream",
     "text": [
      "QASIM ALI\n",
      "qasim ali\n"
     ]
    }
   ],
   "source": [
    "name = \"Qasim Ali\"\n",
    "print(name.upper())\n",
    "print(name.lower())"
   ]
  },
  {
   "cell_type": "markdown",
   "metadata": {},
   "source": [
    "#### Combining or Concatenating Strings"
   ]
  },
  {
   "cell_type": "code",
   "execution_count": 5,
   "metadata": {},
   "outputs": [
    {
     "name": "stdout",
     "output_type": "stream",
     "text": [
      "qasim ali\n"
     ]
    }
   ],
   "source": [
    "first_name = \"qasim\"\n",
    "last_name = \"ali\"\n",
    "full_name = first_name + \" \" + last_name\n",
    "\n",
    "print(full_name)"
   ]
  },
  {
   "cell_type": "code",
   "execution_count": 6,
   "metadata": {},
   "outputs": [
    {
     "name": "stdout",
     "output_type": "stream",
     "text": [
      "Hello, Qasim Ali!\n"
     ]
    }
   ],
   "source": [
    "#first_name = \"qasim\"\n",
    "#last_name = \"ali\"\n",
    "#full_name = first_name + \" \" + last_name\n",
    "\n",
    "print(\"Hello, \" + full_name.title() + \"!\")"
   ]
  },
  {
   "cell_type": "code",
   "execution_count": 7,
   "metadata": {},
   "outputs": [
    {
     "name": "stdout",
     "output_type": "stream",
     "text": [
      "Hello, Qasim Ali!\n"
     ]
    }
   ],
   "source": [
    "#first_name = \"qasim\"\n",
    "#last_name = \"ali\"\n",
    "#full_name = first_name + \" \" + last_name\n",
    "\n",
    "message = \"Hello, \" + full_name.title() + \"!\"\n",
    "print(message)"
   ]
  },
  {
   "cell_type": "markdown",
   "metadata": {},
   "source": [
    "#### Adding Whitespace to Strings with Tabs or Newlines"
   ]
  },
  {
   "cell_type": "code",
   "execution_count": 8,
   "metadata": {},
   "outputs": [
    {
     "name": "stdout",
     "output_type": "stream",
     "text": [
      "Python\n",
      "\tPython\n"
     ]
    }
   ],
   "source": [
    "print(\"Python\")\n",
    "print(\"\\tPython\") #Adding tab to the text by using \\t"
   ]
  },
  {
   "cell_type": "code",
   "execution_count": 9,
   "metadata": {},
   "outputs": [
    {
     "name": "stdout",
     "output_type": "stream",
     "text": [
      "Name:\n",
      "Qasim Ali\n"
     ]
    }
   ],
   "source": [
    "print(\"Name:\\nQasim Ali\") #Adding new line in a string by using \\n"
   ]
  },
  {
   "cell_type": "markdown",
   "metadata": {},
   "source": [
    "#### Stripping Whitespace"
   ]
  },
  {
   "cell_type": "code",
   "execution_count": 10,
   "metadata": {},
   "outputs": [
    {
     "name": "stdout",
     "output_type": "stream",
     "text": [
      "Python\n"
     ]
    }
   ],
   "source": [
    "language = \"Python \"\n",
    "language = language.rstrip() #rstrip() is used to ensure that no whitespace exists at the right end of string\n",
    "\n",
    "print(language)"
   ]
  },
  {
   "cell_type": "code",
   "execution_count": 11,
   "metadata": {},
   "outputs": [
    {
     "name": "stdout",
     "output_type": "stream",
     "text": [
      " Python\n",
      "Python \n",
      "Python\n"
     ]
    }
   ],
   "source": [
    "language = \" Python \"\n",
    "print(language.rstrip()) #Output: \" Python\"\n",
    "print(language.lstrip()) #Output: \"Python \"\n",
    "print(language.strip())  #Output: \"Python\""
   ]
  },
  {
   "cell_type": "markdown",
   "metadata": {},
   "source": [
    "### Numbers"
   ]
  },
  {
   "cell_type": "markdown",
   "metadata": {},
   "source": [
    "#### Integers"
   ]
  },
  {
   "cell_type": "code",
   "execution_count": 12,
   "metadata": {},
   "outputs": [
    {
     "data": {
      "text/plain": [
       "5"
      ]
     },
     "execution_count": 12,
     "metadata": {},
     "output_type": "execute_result"
    }
   ],
   "source": [
    "2 + 3 #Addition"
   ]
  },
  {
   "cell_type": "code",
   "execution_count": 13,
   "metadata": {},
   "outputs": [
    {
     "data": {
      "text/plain": [
       "1"
      ]
     },
     "execution_count": 13,
     "metadata": {},
     "output_type": "execute_result"
    }
   ],
   "source": [
    "3 - 2 #Subtraction"
   ]
  },
  {
   "cell_type": "code",
   "execution_count": 14,
   "metadata": {},
   "outputs": [
    {
     "data": {
      "text/plain": [
       "6"
      ]
     },
     "execution_count": 14,
     "metadata": {},
     "output_type": "execute_result"
    }
   ],
   "source": [
    "2 * 3 #Multiplication"
   ]
  },
  {
   "cell_type": "code",
   "execution_count": 15,
   "metadata": {},
   "outputs": [
    {
     "data": {
      "text/plain": [
       "1.5"
      ]
     },
     "execution_count": 15,
     "metadata": {},
     "output_type": "execute_result"
    }
   ],
   "source": [
    "3 / 2 #Division"
   ]
  },
  {
   "cell_type": "code",
   "execution_count": 16,
   "metadata": {},
   "outputs": [
    {
     "data": {
      "text/plain": [
       "32"
      ]
     },
     "execution_count": 16,
     "metadata": {},
     "output_type": "execute_result"
    }
   ],
   "source": [
    "2 ** 5 #Exponents - 2 ** 5 means 2^5"
   ]
  },
  {
   "cell_type": "code",
   "execution_count": 17,
   "metadata": {},
   "outputs": [
    {
     "data": {
      "text/plain": [
       "5"
      ]
     },
     "execution_count": 17,
     "metadata": {},
     "output_type": "execute_result"
    }
   ],
   "source": [
    "17 // 3 #Floor Division discards the fractional part"
   ]
  },
  {
   "cell_type": "code",
   "execution_count": 18,
   "metadata": {},
   "outputs": [
    {
     "data": {
      "text/plain": [
       "2"
      ]
     },
     "execution_count": 18,
     "metadata": {},
     "output_type": "execute_result"
    }
   ],
   "source": [
    "17 % 3 #This operator returns remainder of division"
   ]
  },
  {
   "cell_type": "markdown",
   "metadata": {},
   "source": [
    "#### For solving expressions, Python uses PEMDAS Formula\n",
    "PEMDAS = Paranthesis (then) Exponent (then) Multiplication (then) Division (then) Addition (then) Subtraction"
   ]
  },
  {
   "cell_type": "code",
   "execution_count": 19,
   "metadata": {},
   "outputs": [
    {
     "data": {
      "text/plain": [
       "76.0"
      ]
     },
     "execution_count": 19,
     "metadata": {},
     "output_type": "execute_result"
    }
   ],
   "source": [
    "#Example\n",
    "5 + 14 - 2 + 8 * (5 + 4 / 2) + 9 / 3 + 10 - (14 + 6) / 4 - 2 * (2 - 1) * 1 - 6 / 2 * 1\n",
    "\n",
    "# 5 + 14 - 2 + 8 * (5 + 2) + 9 / 3 + 10 - 20 / 4 -2 * 1 * 1 - 6 / 2 * 1\n",
    "# 5 + 14 - 2 + 8 * 7 + 9 / 3 + 10 - 20 / 4 -2 * 1 * 1 - 6 / 2 * 1\n",
    "# 5 + 14 - 2 + 56 + 9 / 3 + 10 - 20 / 4 -2 - 6 / 2\n",
    "# 5 + 14 - 2 + 56 + 3 + 10 - 5 -2 - 3\n",
    "# 19 - 2 + 69 - 5 -2 - 3\n",
    "# 88 - 12\n",
    "# 76"
   ]
  },
  {
   "cell_type": "markdown",
   "metadata": {},
   "source": [
    "#### Floats\n",
    "Any number with a decimal point is a *float*."
   ]
  },
  {
   "cell_type": "code",
   "execution_count": 20,
   "metadata": {},
   "outputs": [
    {
     "data": {
      "text/plain": [
       "0.2"
      ]
     },
     "execution_count": 20,
     "metadata": {},
     "output_type": "execute_result"
    }
   ],
   "source": [
    "0.1 + 0.1"
   ]
  },
  {
   "cell_type": "markdown",
   "metadata": {},
   "source": [
    "#### Avoiding Type Errors with the str() Function"
   ]
  },
  {
   "cell_type": "code",
   "execution_count": 21,
   "metadata": {},
   "outputs": [
    {
     "name": "stdout",
     "output_type": "stream",
     "text": [
      "Happy 22nd Birthday!\n"
     ]
    }
   ],
   "source": [
    "age = 22\n",
    "#message = \"Happy \" + age + \"nd Birthday!\" (It'll give Type Error)\n",
    "message = \"Happy \" + str(age) + \"nd Birthday!\" #Now, str(age) coverts the integer 'age' to string\n",
    "\n",
    "print(message)"
   ]
  },
  {
   "cell_type": "markdown",
   "metadata": {},
   "source": [
    "### The Zen of Python"
   ]
  },
  {
   "cell_type": "code",
   "execution_count": 22,
   "metadata": {},
   "outputs": [
    {
     "name": "stdout",
     "output_type": "stream",
     "text": [
      "The Zen of Python, by Tim Peters\n",
      "\n",
      "Beautiful is better than ugly.\n",
      "Explicit is better than implicit.\n",
      "Simple is better than complex.\n",
      "Complex is better than complicated.\n",
      "Flat is better than nested.\n",
      "Sparse is better than dense.\n",
      "Readability counts.\n",
      "Special cases aren't special enough to break the rules.\n",
      "Although practicality beats purity.\n",
      "Errors should never pass silently.\n",
      "Unless explicitly silenced.\n",
      "In the face of ambiguity, refuse the temptation to guess.\n",
      "There should be one-- and preferably only one --obvious way to do it.\n",
      "Although that way may not be obvious at first unless you're Dutch.\n",
      "Now is better than never.\n",
      "Although never is often better than *right* now.\n",
      "If the implementation is hard to explain, it's a bad idea.\n",
      "If the implementation is easy to explain, it may be a good idea.\n",
      "Namespaces are one honking great idea -- let's do more of those!\n"
     ]
    }
   ],
   "source": [
    "import this"
   ]
  }
 ],
 "metadata": {
  "kernelspec": {
   "display_name": "Python 3",
   "language": "python",
   "name": "python3"
  },
  "language_info": {
   "codemirror_mode": {
    "name": "ipython",
    "version": 3
   },
   "file_extension": ".py",
   "mimetype": "text/x-python",
   "name": "python",
   "nbconvert_exporter": "python",
   "pygments_lexer": "ipython3",
   "version": "3.7.3"
  }
 },
 "nbformat": 4,
 "nbformat_minor": 2
}
